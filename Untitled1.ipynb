{
  "nbformat": 4,
  "nbformat_minor": 0,
  "metadata": {
    "colab": {
      "provenance": []
    },
    "kernelspec": {
      "name": "python3",
      "display_name": "Python 3"
    },
    "language_info": {
      "name": "python"
    }
  },
  "cells": [
    {
      "cell_type": "code",
      "execution_count": null,
      "metadata": {
        "colab": {
          "base_uri": "https://localhost:8080/"
        },
        "id": "lv1R4K8jywuY",
        "outputId": "000e5058-4f12-4780-c5f8-3c6dba4a567c"
      },
      "outputs": [
        {
          "output_type": "stream",
          "name": "stdout",
          "text": [
            "Looking in indexes: https://pypi.org/simple, https://us-python.pkg.dev/colab-wheels/public/simple/\n",
            "Requirement already satisfied: pulp in /usr/local/lib/python3.9/dist-packages (2.7.0)\n"
          ]
        }
      ],
      "source": [
        "\n",
        "pip install pulp\n"
      ]
    },
    {
      "cell_type": "code",
      "source": [
        "from pulp import *\n",
        "\n",
        "# Define the problem as a maximization problem\n",
        "prob = LpProblem(\"Example\", LpMaximize)\n",
        "\n",
        "# Define decision variables\n",
        "x1 = LpVariable(\"x1\", 0, None, LpContinuous)\n",
        "x2 = LpVariable(\"x2\", 0, None, LpContinuous)\n",
        "\n",
        "# Define the objective function\n",
        "prob += 5*x1 + 4*x2\n",
        "\n",
        "# Define the constraints\n",
        "prob += 2*x1 + x2 <= 8\n",
        "prob += x1 + 2*x2 <= 10\n",
        "\n",
        "# Solve the problem\n",
        "prob.solve()\n",
        "\n",
        "# Print the status of the solution\n",
        "print(\"Status:\", LpStatus[prob.status])\n",
        "\n",
        "# Print the optimal values of the decision variables and the objective function\n",
        "for var in prob.variables():\n",
        "    print(var.name, \"=\", var.varValue)\n",
        "print(\"Objective =\", value(prob.objective))\n",
        "#python code for lpp\n",
        "  #PS: modify constraints and objective function before running\n",
        "#lpp\n"
      ],
      "metadata": {
        "colab": {
          "base_uri": "https://localhost:8080/"
        },
        "id": "M0_uJ2q90OAm",
        "outputId": "3af3779a-af0e-46ed-8f8d-a5df694df86a"
      },
      "execution_count": null,
      "outputs": [
        {
          "output_type": "stream",
          "name": "stdout",
          "text": [
            "Status: Optimal\n",
            "x1 = 2.0\n",
            "x2 = 4.0\n",
            "Objective = 26.0\n"
          ]
        }
      ]
    },
    {
      "cell_type": "code",
      "source": [
        "pip install numpy"
      ],
      "metadata": {
        "id": "N5I_laLOPF4u"
      },
      "execution_count": null,
      "outputs": []
    },
    {
      "cell_type": "code",
      "source": [],
      "metadata": {
        "id": "4JUFT-yIPLBB"
      },
      "execution_count": null,
      "outputs": []
    },
    {
      "cell_type": "code",
      "source": [],
      "metadata": {
        "id": "T8F-GAy40xGH"
      },
      "execution_count": null,
      "outputs": []
    }
  ]
}